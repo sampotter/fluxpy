{
 "cells": [
  {
   "cell_type": "code",
   "execution_count": 1,
   "id": "8790cccb",
   "metadata": {},
   "outputs": [],
   "source": [
    "import numpy as np\n",
    "import matplotlib.pyplot as plt\n",
    "from flux.shape import CgalTrimeshShapeModel, get_surface_normals\n",
    "\n",
    "import pyvista as pv"
   ]
  },
  {
   "cell_type": "markdown",
   "id": "1b3b2971",
   "metadata": {},
   "source": [
    "# (Memoryless) Temperature Computation\n",
    "\n",
    "Consider the surface temperature fields obtained by running a radiative equilibrium temperature computation with no sub-surface heating/thermal model. One can compare the temperatures generated using a compressed form factor matrix to those generated via the uncompressed matrix."
   ]
  },
  {
   "cell_type": "code",
   "execution_count": null,
   "id": "01e19e3a",
   "metadata": {},
   "outputs": [],
   "source": [
    "mesh_dir = 'python-flux/examples/shackleton_vary_outer/'\n",
    "mesh_name = 'shackleton'"
   ]
  },
  {
   "cell_type": "code",
   "execution_count": 33,
   "id": "76a5473c",
   "metadata": {},
   "outputs": [
    {
     "data": {
      "text/plain": [
       "(16569, 3)"
      ]
     },
     "execution_count": 33,
     "metadata": {},
     "output_type": "execute_result"
    }
   ],
   "source": [
    "V = np.load(f'{mesh_dir}/{mesh_name}_verts_2.0_80.npy')\n",
    "F = np.load(f'{mesh_dir}/{mesh_name}_faces_2.0_80.npy')\n",
    "\n",
    "# convert verts from km to m\n",
    "V *= 1e3\n",
    "\n",
    "N = get_surface_normals(V, F)\n",
    "N[N[:, 2] > 0] *= -1\n",
    "\n",
    "faces_padded = np.concatenate([3*np.ones(F.shape[0],dtype=int).reshape(-1,1), F], axis=1)\n",
    "\n",
    "shape_model = CgalTrimeshShapeModel(V, F, N)\n",
    "F.shape"
   ]
  },
  {
   "cell_type": "markdown",
   "id": "89e079f3",
   "metadata": {},
   "source": [
    "Load the temperature profiles for the triangular mesh using the uncompressed form factor matrix."
   ]
  },
  {
   "cell_type": "code",
   "execution_count": 6,
   "id": "6eca1268",
   "metadata": {},
   "outputs": [
    {
     "data": {
      "text/plain": [
       "(31, 16569)"
      ]
     },
     "execution_count": 6,
     "metadata": {},
     "output_type": "execute_result"
    }
   ],
   "source": [
    "path = f'{mesh_dir}/results/true_2.0_80/T_frames_memoryless'\n",
    "T_frames_true = []\n",
    "for i in range(31):\n",
    "    T_frames_true.append(np.load(path+\"/T{:03d}.npy\".format(i)))\n",
    "T_frames_true = np.array(T_frames_true)\n",
    "T_frames_true.shape"
   ]
  },
  {
   "cell_type": "code",
   "execution_count": 22,
   "id": "79ebebea",
   "metadata": {},
   "outputs": [
    {
     "data": {
      "application/vnd.jupyter.widget-view+json": {
       "model_id": "",
       "version_major": 2,
       "version_minor": 0
      },
      "text/plain": [
       "Widget(value=\"<iframe src='http://localhost:56684/index.html?ui=P_0x235fb49f490_9&reconnect=auto' style='width…"
      ]
     },
     "metadata": {},
     "output_type": "display_data"
    }
   ],
   "source": [
    "step = 15\n",
    "\n",
    "grid = pv.PolyData(V, faces=faces_padded.flatten(), n_faces=F.shape[0])\n",
    "\n",
    "grid['True Temperature (K)'] = np.empty(F.shape[0])\n",
    "grid['True Temperature (K)'][...] = T_frames_true[step,:]\n",
    "grid.plot(clim=[0,50])"
   ]
  },
  {
   "cell_type": "markdown",
   "id": "57e7ace4",
   "metadata": {},
   "source": [
    "Load the temperature profiles for the triangular mesh using the compressed form factor matrix."
   ]
  },
  {
   "cell_type": "code",
   "execution_count": 7,
   "id": "4ff197d7",
   "metadata": {},
   "outputs": [
    {
     "data": {
      "text/plain": [
       "(31, 16569)"
      ]
     },
     "execution_count": 7,
     "metadata": {},
     "output_type": "execute_result"
    }
   ],
   "source": [
    "path = f'{mesh_dir}/results/svd_2.0_80_1e-02_40k0/T_frames_memoryless'\n",
    "T_frames_svd = []\n",
    "for i in range(31):\n",
    "    T_frames_svd.append(np.load(path+\"/T{:03d}.npy\".format(i)))\n",
    "T_frames_svd = np.array(T_frames_svd)\n",
    "T_frames_svd.shape"
   ]
  },
  {
   "cell_type": "markdown",
   "id": "2d51aa72",
   "metadata": {},
   "source": [
    "Consider the absolute and relative differences between the two fields, and overlay them on a mesh of the surface for a particular time step."
   ]
  },
  {
   "cell_type": "code",
   "execution_count": 8,
   "id": "1d856d80",
   "metadata": {},
   "outputs": [
    {
     "data": {
      "text/plain": [
       "(31, 16569)"
      ]
     },
     "execution_count": 8,
     "metadata": {},
     "output_type": "execute_result"
    }
   ],
   "source": [
    "T_frames_diff_field = abs(T_frames_true - T_frames_svd)\n",
    "T_frames_diff_field.shape"
   ]
  },
  {
   "cell_type": "code",
   "execution_count": 21,
   "id": "bbea209f",
   "metadata": {},
   "outputs": [
    {
     "data": {
      "application/vnd.jupyter.widget-view+json": {
       "model_id": "",
       "version_major": 2,
       "version_minor": 0
      },
      "text/plain": [
       "Widget(value=\"<iframe src='http://localhost:56684/index.html?ui=P_0x235d71d4e10_8&reconnect=auto' style='width…"
      ]
     },
     "metadata": {},
     "output_type": "display_data"
    }
   ],
   "source": [
    "step = 15\n",
    "\n",
    "grid = pv.PolyData(V, faces=faces_padded.flatten(), n_faces=F.shape[0])\n",
    "\n",
    "grid['Temp Absolute Difference (K)'] = np.empty(F.shape[0])\n",
    "grid['Temp Absolute Difference (K)'][...] = T_frames_diff_field[step,:]\n",
    "grid.plot(clim=[0, 5])"
   ]
  },
  {
   "cell_type": "code",
   "execution_count": 10,
   "id": "459ec5a7",
   "metadata": {},
   "outputs": [
    {
     "name": "stderr",
     "output_type": "stream",
     "text": [
      "C:\\Users\\mwrep\\AppData\\Local\\Temp\\ipykernel_20200\\3866674088.py:1: RuntimeWarning: divide by zero encountered in divide\n",
      "  T_frames_rel_diff_field = abs(T_frames_true - T_frames_svd) / T_frames_true\n",
      "C:\\Users\\mwrep\\AppData\\Local\\Temp\\ipykernel_20200\\3866674088.py:1: RuntimeWarning: invalid value encountered in divide\n",
      "  T_frames_rel_diff_field = abs(T_frames_true - T_frames_svd) / T_frames_true\n"
     ]
    },
    {
     "data": {
      "text/plain": [
       "(31, 16569)"
      ]
     },
     "execution_count": 10,
     "metadata": {},
     "output_type": "execute_result"
    }
   ],
   "source": [
    "T_frames_rel_diff_field = abs(T_frames_true - T_frames_svd) / T_frames_true\n",
    "T_frames_rel_diff_field.shape"
   ]
  },
  {
   "cell_type": "code",
   "execution_count": 30,
   "id": "48741717",
   "metadata": {},
   "outputs": [
    {
     "data": {
      "application/vnd.jupyter.widget-view+json": {
       "model_id": "",
       "version_major": 2,
       "version_minor": 0
      },
      "text/plain": [
       "Widget(value=\"<iframe src='http://localhost:56684/index.html?ui=P_0x235c63b6dd0_14&reconnect=auto' style='widt…"
      ]
     },
     "metadata": {},
     "output_type": "display_data"
    }
   ],
   "source": [
    "step = 15\n",
    "\n",
    "grid = pv.PolyData(V, faces=faces_padded.flatten(), n_faces=F.shape[0])\n",
    "\n",
    "grid['Temp Relative Difference'] = np.empty(F.shape[0])\n",
    "grid['Temp Relative Difference'][...] = T_frames_rel_diff_field[step,:]\n",
    "grid.plot(clim=[-0.2, 1.1])"
   ]
  },
  {
   "cell_type": "markdown",
   "id": "50980606",
   "metadata": {},
   "source": [
    "Plot the absolute difference in temperature across all triangles and all times against the temperature computed using the uncompressed matrix."
   ]
  },
  {
   "cell_type": "code",
   "execution_count": 28,
   "id": "287e2dbc",
   "metadata": {},
   "outputs": [
    {
     "data": {
      "image/png": "[encoded data removed]",
      "text/plain": [
       "<Figure size 640x480 with 1 Axes>"
      ]
     },
     "metadata": {},
     "output_type": "display_data"
    }
   ],
   "source": [
    "plt.scatter(T_frames_true, abs(T_frames_true - T_frames_svd), color='k', s=5, alpha=0.25)\n",
    "plt.xlabel(\"Temperature (K)\")\n",
    "plt.ylabel(\"Absolute Temperature Error (K)\")\n",
    "plt.show()"
   ]
  }
 ],
 "metadata": {
  "kernelspec": {
   "display_name": "Python 3 (ipykernel)",
   "language": "python",
   "name": "python3"
  },
  "language_info": {
   "codemirror_mode": {
    "name": "ipython",
    "version": 3
   },
   "file_extension": ".py",
   "mimetype": "text/x-python",
   "name": "python",
   "nbconvert_exporter": "python",
   "pygments_lexer": "ipython3",
   "version": "3.10.12"
  }
 },
 "nbformat": 4,
 "nbformat_minor": 5
}
