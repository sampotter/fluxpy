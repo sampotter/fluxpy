{
 "cells": [
  {
   "cell_type": "code",
   "execution_count": 1,
   "id": "94b77cb9",
   "metadata": {},
   "outputs": [],
   "source": [
    "import numpy as np\n",
    "import scipy\n",
    "import matplotlib.pyplot as plt\n",
    "from sklearn.decomposition import NMF\n",
    "\n",
    "from flux.form_factors import get_form_factor_matrix\n",
    "from flux.shape import CgalTrimeshShapeModel, get_surface_normals, get_centroids\n",
    "from flux.quadtree import get_quadrant_order\n",
    "from flux.octree import get_octant_order\n",
    "\n",
    "import pyvista as pv"
   ]
  },
  {
   "cell_type": "markdown",
   "id": "3bd90e4a",
   "metadata": {},
   "source": [
    "# Regions of Interest\n",
    "\n",
    "If we specify a region of interest (a circular region surrounding some position), we partition the space separate within and outside of the ROI. This could lead to better concentration of rank in the hierarchical view factor matrix."
   ]
  },
  {
   "cell_type": "code",
   "execution_count": 69,
   "id": "971c06eb",
   "metadata": {},
   "outputs": [],
   "source": [
    "import itertools as it\n",
    "\n",
    "def get_quadrant_order_roi(X, roi_c, roi_r):\n",
    "    \n",
    "    roi_idx = (np.power(X - roi_c, 2).sum(axis=1) < np.power(roi_r, 2))\n",
    "    \n",
    "    X_roi = X[roi_idx]\n",
    "    xmin_roi, ymin_roi = np.min(X_roi, axis=0)\n",
    "    xmax_roi, ymax_roi = np.max(X_roi, axis=0)\n",
    "    xc_roi, yc_roi = (xmin_roi + xmax_roi)/2, (ymin_roi + ymax_roi)/2\n",
    "    \n",
    "    X_non_roi = X[~roi_idx]\n",
    "    xmin_non_roi, ymin_non_roi = np.min(X_non_roi, axis=0)\n",
    "    xmax_non_roi, ymax_non_roi = np.max(X_non_roi, axis=0)\n",
    "    xc_non_roi, yc_non_roi = (xmin_non_roi + xmax_non_roi)/2, (ymin_non_roi + ymax_non_roi)/2\n",
    "        \n",
    "    x, y = X.T\n",
    "    Is = []\n",
    "    for xop, yop in it.product([np.less_equal, np.greater], repeat=2):\n",
    "        B = np.column_stack([xop(x, xc_roi), yop(y, yc_roi), roi_idx])\n",
    "        I = np.where(np.all(B, axis=1))[0]\n",
    "        Is.append(I)\n",
    "        \n",
    "        B = np.column_stack([xop(x, xc_roi), yop(y, yc_roi), ~roi_idx])\n",
    "        I = np.where(np.all(B, axis=1))[0]\n",
    "        Is.append(I)\n",
    "    return Is"
   ]
  },
  {
   "cell_type": "markdown",
   "id": "bd2ef110",
   "metadata": {},
   "source": [
    "### Load the shape mesh and extract the two sets of quadrants.\n",
    "\n",
    "Make sure the directory to the mesh is correct on your machine!"
   ]
  },
  {
   "cell_type": "code",
   "execution_count": null,
   "id": "892fc584",
   "metadata": {},
   "outputs": [],
   "source": [
    "mesh_dir = 'python-flux/examples/gerlache/'\n",
    "mesh_name = 'gerlache'"
   ]
  },
  {
   "cell_type": "code",
   "execution_count": 79,
   "id": "006306af",
   "metadata": {},
   "outputs": [],
   "source": [
    "max_inner_area = 0.8\n",
    "max_outer_area = 3.0\n",
    "\n",
    "max_inner_area_str = str(max_inner_area)\n",
    "max_outer_area_str = str(max_outer_area)"
   ]
  },
  {
   "cell_type": "code",
   "execution_count": 80,
   "id": "d2fa1a03",
   "metadata": {},
   "outputs": [],
   "source": [
    "V = np.load(f'{mesh_dir}/{mesh_name}_verts_{max_inner_area_str}_{max_outer_area_str}.npy')\n",
    "F = np.load(f'{mesh_dir}/{mesh_name}_faces_{max_inner_area_str}_{max_outer_area_str}.npy')\n",
    "\n",
    "# convert verts from km to m\n",
    "V *= 1e3\n",
    "\n",
    "N = get_surface_normals(V, F)\n",
    "N[N[:, 2] > 0] *= -1"
   ]
  },
  {
   "cell_type": "code",
   "execution_count": 81,
   "id": "107ae94f",
   "metadata": {},
   "outputs": [],
   "source": [
    "P = get_centroids(V, F)\n",
    "Is = get_quadrant_order_roi(P[:,:2], V.mean(axis=0)[:2], 1e4)"
   ]
  },
  {
   "cell_type": "code",
   "execution_count": 82,
   "id": "680f1a38",
   "metadata": {},
   "outputs": [],
   "source": [
    "faces_padded = np.concatenate([3*np.ones(F.shape[0],dtype=int).reshape(-1,1), F], axis=1)\n",
    "grid = pv.PolyData(V, faces=faces_padded.flatten(), n_faces=F.shape[0])\n",
    "\n",
    "shape_model = CgalTrimeshShapeModel(V, F, N)"
   ]
  },
  {
   "cell_type": "code",
   "execution_count": 83,
   "id": "29fec812",
   "metadata": {},
   "outputs": [
    {
     "name": "stdout",
     "output_type": "stream",
     "text": [
      "created mesh with 2078 triangles\n"
     ]
    }
   ],
   "source": [
    "num_faces = F.shape[0]\n",
    "print('created mesh with %d triangles' % num_faces)"
   ]
  },
  {
   "cell_type": "code",
   "execution_count": 84,
   "id": "7286602c",
   "metadata": {},
   "outputs": [],
   "source": [
    "grid['quadrant'] = np.empty(P.shape[0])\n",
    "grid['quadrant'][...] = np.nan\n",
    "for i, I in enumerate(Is):\n",
    "    grid['quadrant'][I] = i"
   ]
  },
  {
   "cell_type": "code",
   "execution_count": 85,
   "id": "db609742",
   "metadata": {},
   "outputs": [
    {
     "data": {
      "application/vnd.jupyter.widget-view+json": {
       "model_id": "1b02ddaf29e04a26a7885ba6932eb251",
       "version_major": 2,
       "version_minor": 0
      },
      "text/plain": [
       "Widget(value=\"<iframe src='http://localhost:61510/index.html?ui=P_0x1ee5ab3ddd0_3&reconnect=auto' style='width…"
      ]
     },
     "metadata": {},
     "output_type": "display_data"
    }
   ],
   "source": [
    "grid.plot()"
   ]
  },
  {
   "cell_type": "markdown",
   "id": "5bdac4f0",
   "metadata": {},
   "source": [
    "View factor between two blocks in the crater is very dense"
   ]
  },
  {
   "cell_type": "code",
   "execution_count": 96,
   "id": "a5ba059f",
   "metadata": {},
   "outputs": [
    {
     "name": "stdout",
     "output_type": "stream",
     "text": [
      "(172, 177) 29608\n",
      "0.972539745105768\n"
     ]
    }
   ],
   "source": [
    "I = Is[0]\n",
    "J = Is[2]\n",
    "FF = get_form_factor_matrix(shape_model, I, J)\n",
    "FF_arr = FF.A\n",
    "print(FF.shape, FF.nnz)\n",
    "print(FF.nnz/np.prod(FF.shape))"
   ]
  },
  {
   "cell_type": "markdown",
   "id": "07b0abd0",
   "metadata": {},
   "source": [
    "View factor between a block inside the crater and a block outside the crater is very sparse"
   ]
  },
  {
   "cell_type": "code",
   "execution_count": 104,
   "id": "94886ca8",
   "metadata": {},
   "outputs": [
    {
     "name": "stdout",
     "output_type": "stream",
     "text": [
      "(172, 348) 318\n",
      "0.005312750601443464\n"
     ]
    }
   ],
   "source": [
    "I = Is[0]\n",
    "J = Is[5]\n",
    "FF = get_form_factor_matrix(shape_model, I, J)\n",
    "FF_arr = FF.A\n",
    "print(FF.shape, FF.nnz)\n",
    "print(FF.nnz/np.prod(FF.shape))"
   ]
  },
  {
   "cell_type": "markdown",
   "id": "847a7be7",
   "metadata": {},
   "source": [
    "View factor between two blocks outside the crater is fairly sparse"
   ]
  },
  {
   "cell_type": "code",
   "execution_count": 91,
   "id": "dbd1a7f8",
   "metadata": {},
   "outputs": [
    {
     "name": "stdout",
     "output_type": "stream",
     "text": [
      "(346, 355) 4698\n",
      "0.038247985019946265\n"
     ]
    }
   ],
   "source": [
    "I = Is[1]\n",
    "J = Is[3]\n",
    "FF = get_form_factor_matrix(shape_model, I, J)\n",
    "FF_arr = FF.A\n",
    "print(FF.shape, FF.nnz)\n",
    "print(FF.nnz/np.prod(FF.shape))"
   ]
  },
  {
   "cell_type": "code",
   "execution_count": 105,
   "id": "9f1eae46",
   "metadata": {},
   "outputs": [
    {
     "name": "stdout",
     "output_type": "stream",
     "text": [
      "(346, 346) 14576\n",
      "0.12175481974005145\n"
     ]
    }
   ],
   "source": [
    "I = Is[1]\n",
    "J = Is[1]\n",
    "FF = get_form_factor_matrix(shape_model, I, J)\n",
    "FF_arr = FF.A\n",
    "print(FF.shape, FF.nnz)\n",
    "print(FF.nnz/np.prod(FF.shape))"
   ]
  }
 ],
 "metadata": {
  "kernelspec": {
   "display_name": "Python 3 (ipykernel)",
   "language": "python",
   "name": "python3"
  },
  "language_info": {
   "codemirror_mode": {
    "name": "ipython",
    "version": 3
   },
   "file_extension": ".py",
   "mimetype": "text/x-python",
   "name": "python",
   "nbconvert_exporter": "python",
   "pygments_lexer": "ipython3",
   "version": "3.10.12"
  }
 },
 "nbformat": 4,
 "nbformat_minor": 5
}
